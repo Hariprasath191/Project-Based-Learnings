{
 "cells": [
  {
   "cell_type": "code",
   "execution_count": 1,
   "id": "71e761b9-3e69-422b-b493-2ceac04cafbd",
   "metadata": {},
   "outputs": [
    {
     "name": "stderr",
     "output_type": "stream",
     "text": [
      "C:\\My drive\\Learn practically\\Spark\\myenv\\Lib\\site-packages\\keras\\src\\layers\\convolutional\\base_conv.py:113: UserWarning: Do not pass an `input_shape`/`input_dim` argument to a layer. When using Sequential models, prefer using an `Input(shape)` object as the first layer in the model instead.\n",
      "  super().__init__(activity_regularizer=activity_regularizer, **kwargs)\n"
     ]
    },
    {
     "data": {
      "text/html": [
       "<pre style=\"white-space:pre;overflow-x:auto;line-height:normal;font-family:Menlo,'DejaVu Sans Mono',consolas,'Courier New',monospace\"><span style=\"font-weight: bold\">Model: \"sequential\"</span>\n",
       "</pre>\n"
      ],
      "text/plain": [
       "\u001b[1mModel: \"sequential\"\u001b[0m\n"
      ]
     },
     "metadata": {},
     "output_type": "display_data"
    },
    {
     "data": {
      "text/html": [
       "<pre style=\"white-space:pre;overflow-x:auto;line-height:normal;font-family:Menlo,'DejaVu Sans Mono',consolas,'Courier New',monospace\">┏━━━━━━━━━━━━━━━━━━━━━━━━━━━━━━━━━━━━━━┳━━━━━━━━━━━━━━━━━━━━━━━━━━━━━┳━━━━━━━━━━━━━━━━━┓\n",
       "┃<span style=\"font-weight: bold\"> Layer (type)                         </span>┃<span style=\"font-weight: bold\"> Output Shape                </span>┃<span style=\"font-weight: bold\">         Param # </span>┃\n",
       "┡━━━━━━━━━━━━━━━━━━━━━━━━━━━━━━━━━━━━━━╇━━━━━━━━━━━━━━━━━━━━━━━━━━━━━╇━━━━━━━━━━━━━━━━━┩\n",
       "│ conv2d (<span style=\"color: #0087ff; text-decoration-color: #0087ff\">Conv2D</span>)                      │ (<span style=\"color: #00d7ff; text-decoration-color: #00d7ff\">None</span>, <span style=\"color: #00af00; text-decoration-color: #00af00\">54</span>, <span style=\"color: #00af00; text-decoration-color: #00af00\">54</span>, <span style=\"color: #00af00; text-decoration-color: #00af00\">96</span>)          │          <span style=\"color: #00af00; text-decoration-color: #00af00\">34,944</span> │\n",
       "├──────────────────────────────────────┼─────────────────────────────┼─────────────────┤\n",
       "│ max_pooling2d (<span style=\"color: #0087ff; text-decoration-color: #0087ff\">MaxPooling2D</span>)         │ (<span style=\"color: #00d7ff; text-decoration-color: #00d7ff\">None</span>, <span style=\"color: #00af00; text-decoration-color: #00af00\">26</span>, <span style=\"color: #00af00; text-decoration-color: #00af00\">26</span>, <span style=\"color: #00af00; text-decoration-color: #00af00\">96</span>)          │               <span style=\"color: #00af00; text-decoration-color: #00af00\">0</span> │\n",
       "├──────────────────────────────────────┼─────────────────────────────┼─────────────────┤\n",
       "│ conv2d_1 (<span style=\"color: #0087ff; text-decoration-color: #0087ff\">Conv2D</span>)                    │ (<span style=\"color: #00d7ff; text-decoration-color: #00d7ff\">None</span>, <span style=\"color: #00af00; text-decoration-color: #00af00\">26</span>, <span style=\"color: #00af00; text-decoration-color: #00af00\">26</span>, <span style=\"color: #00af00; text-decoration-color: #00af00\">256</span>)         │         <span style=\"color: #00af00; text-decoration-color: #00af00\">614,656</span> │\n",
       "├──────────────────────────────────────┼─────────────────────────────┼─────────────────┤\n",
       "│ max_pooling2d_1 (<span style=\"color: #0087ff; text-decoration-color: #0087ff\">MaxPooling2D</span>)       │ (<span style=\"color: #00d7ff; text-decoration-color: #00d7ff\">None</span>, <span style=\"color: #00af00; text-decoration-color: #00af00\">12</span>, <span style=\"color: #00af00; text-decoration-color: #00af00\">12</span>, <span style=\"color: #00af00; text-decoration-color: #00af00\">256</span>)         │               <span style=\"color: #00af00; text-decoration-color: #00af00\">0</span> │\n",
       "├──────────────────────────────────────┼─────────────────────────────┼─────────────────┤\n",
       "│ conv2d_2 (<span style=\"color: #0087ff; text-decoration-color: #0087ff\">Conv2D</span>)                    │ (<span style=\"color: #00d7ff; text-decoration-color: #00d7ff\">None</span>, <span style=\"color: #00af00; text-decoration-color: #00af00\">12</span>, <span style=\"color: #00af00; text-decoration-color: #00af00\">12</span>, <span style=\"color: #00af00; text-decoration-color: #00af00\">384</span>)         │         <span style=\"color: #00af00; text-decoration-color: #00af00\">885,120</span> │\n",
       "├──────────────────────────────────────┼─────────────────────────────┼─────────────────┤\n",
       "│ conv2d_3 (<span style=\"color: #0087ff; text-decoration-color: #0087ff\">Conv2D</span>)                    │ (<span style=\"color: #00d7ff; text-decoration-color: #00d7ff\">None</span>, <span style=\"color: #00af00; text-decoration-color: #00af00\">12</span>, <span style=\"color: #00af00; text-decoration-color: #00af00\">12</span>, <span style=\"color: #00af00; text-decoration-color: #00af00\">384</span>)         │       <span style=\"color: #00af00; text-decoration-color: #00af00\">1,327,488</span> │\n",
       "├──────────────────────────────────────┼─────────────────────────────┼─────────────────┤\n",
       "│ conv2d_4 (<span style=\"color: #0087ff; text-decoration-color: #0087ff\">Conv2D</span>)                    │ (<span style=\"color: #00d7ff; text-decoration-color: #00d7ff\">None</span>, <span style=\"color: #00af00; text-decoration-color: #00af00\">12</span>, <span style=\"color: #00af00; text-decoration-color: #00af00\">12</span>, <span style=\"color: #00af00; text-decoration-color: #00af00\">256</span>)         │         <span style=\"color: #00af00; text-decoration-color: #00af00\">884,992</span> │\n",
       "├──────────────────────────────────────┼─────────────────────────────┼─────────────────┤\n",
       "│ max_pooling2d_2 (<span style=\"color: #0087ff; text-decoration-color: #0087ff\">MaxPooling2D</span>)       │ (<span style=\"color: #00d7ff; text-decoration-color: #00d7ff\">None</span>, <span style=\"color: #00af00; text-decoration-color: #00af00\">5</span>, <span style=\"color: #00af00; text-decoration-color: #00af00\">5</span>, <span style=\"color: #00af00; text-decoration-color: #00af00\">256</span>)           │               <span style=\"color: #00af00; text-decoration-color: #00af00\">0</span> │\n",
       "├──────────────────────────────────────┼─────────────────────────────┼─────────────────┤\n",
       "│ flatten (<span style=\"color: #0087ff; text-decoration-color: #0087ff\">Flatten</span>)                    │ (<span style=\"color: #00d7ff; text-decoration-color: #00d7ff\">None</span>, <span style=\"color: #00af00; text-decoration-color: #00af00\">6400</span>)                │               <span style=\"color: #00af00; text-decoration-color: #00af00\">0</span> │\n",
       "├──────────────────────────────────────┼─────────────────────────────┼─────────────────┤\n",
       "│ dense (<span style=\"color: #0087ff; text-decoration-color: #0087ff\">Dense</span>)                        │ (<span style=\"color: #00d7ff; text-decoration-color: #00d7ff\">None</span>, <span style=\"color: #00af00; text-decoration-color: #00af00\">4096</span>)                │      <span style=\"color: #00af00; text-decoration-color: #00af00\">26,218,496</span> │\n",
       "├──────────────────────────────────────┼─────────────────────────────┼─────────────────┤\n",
       "│ dropout (<span style=\"color: #0087ff; text-decoration-color: #0087ff\">Dropout</span>)                    │ (<span style=\"color: #00d7ff; text-decoration-color: #00d7ff\">None</span>, <span style=\"color: #00af00; text-decoration-color: #00af00\">4096</span>)                │               <span style=\"color: #00af00; text-decoration-color: #00af00\">0</span> │\n",
       "├──────────────────────────────────────┼─────────────────────────────┼─────────────────┤\n",
       "│ dense_1 (<span style=\"color: #0087ff; text-decoration-color: #0087ff\">Dense</span>)                      │ (<span style=\"color: #00d7ff; text-decoration-color: #00d7ff\">None</span>, <span style=\"color: #00af00; text-decoration-color: #00af00\">4096</span>)                │      <span style=\"color: #00af00; text-decoration-color: #00af00\">16,781,312</span> │\n",
       "├──────────────────────────────────────┼─────────────────────────────┼─────────────────┤\n",
       "│ dropout_1 (<span style=\"color: #0087ff; text-decoration-color: #0087ff\">Dropout</span>)                  │ (<span style=\"color: #00d7ff; text-decoration-color: #00d7ff\">None</span>, <span style=\"color: #00af00; text-decoration-color: #00af00\">4096</span>)                │               <span style=\"color: #00af00; text-decoration-color: #00af00\">0</span> │\n",
       "├──────────────────────────────────────┼─────────────────────────────┼─────────────────┤\n",
       "│ dense_2 (<span style=\"color: #0087ff; text-decoration-color: #0087ff\">Dense</span>)                      │ (<span style=\"color: #00d7ff; text-decoration-color: #00d7ff\">None</span>, <span style=\"color: #00af00; text-decoration-color: #00af00\">2</span>)                   │           <span style=\"color: #00af00; text-decoration-color: #00af00\">8,194</span> │\n",
       "└──────────────────────────────────────┴─────────────────────────────┴─────────────────┘\n",
       "</pre>\n"
      ],
      "text/plain": [
       "┏━━━━━━━━━━━━━━━━━━━━━━━━━━━━━━━━━━━━━━┳━━━━━━━━━━━━━━━━━━━━━━━━━━━━━┳━━━━━━━━━━━━━━━━━┓\n",
       "┃\u001b[1m \u001b[0m\u001b[1mLayer (type)                        \u001b[0m\u001b[1m \u001b[0m┃\u001b[1m \u001b[0m\u001b[1mOutput Shape               \u001b[0m\u001b[1m \u001b[0m┃\u001b[1m \u001b[0m\u001b[1m        Param #\u001b[0m\u001b[1m \u001b[0m┃\n",
       "┡━━━━━━━━━━━━━━━━━━━━━━━━━━━━━━━━━━━━━━╇━━━━━━━━━━━━━━━━━━━━━━━━━━━━━╇━━━━━━━━━━━━━━━━━┩\n",
       "│ conv2d (\u001b[38;5;33mConv2D\u001b[0m)                      │ (\u001b[38;5;45mNone\u001b[0m, \u001b[38;5;34m54\u001b[0m, \u001b[38;5;34m54\u001b[0m, \u001b[38;5;34m96\u001b[0m)          │          \u001b[38;5;34m34,944\u001b[0m │\n",
       "├──────────────────────────────────────┼─────────────────────────────┼─────────────────┤\n",
       "│ max_pooling2d (\u001b[38;5;33mMaxPooling2D\u001b[0m)         │ (\u001b[38;5;45mNone\u001b[0m, \u001b[38;5;34m26\u001b[0m, \u001b[38;5;34m26\u001b[0m, \u001b[38;5;34m96\u001b[0m)          │               \u001b[38;5;34m0\u001b[0m │\n",
       "├──────────────────────────────────────┼─────────────────────────────┼─────────────────┤\n",
       "│ conv2d_1 (\u001b[38;5;33mConv2D\u001b[0m)                    │ (\u001b[38;5;45mNone\u001b[0m, \u001b[38;5;34m26\u001b[0m, \u001b[38;5;34m26\u001b[0m, \u001b[38;5;34m256\u001b[0m)         │         \u001b[38;5;34m614,656\u001b[0m │\n",
       "├──────────────────────────────────────┼─────────────────────────────┼─────────────────┤\n",
       "│ max_pooling2d_1 (\u001b[38;5;33mMaxPooling2D\u001b[0m)       │ (\u001b[38;5;45mNone\u001b[0m, \u001b[38;5;34m12\u001b[0m, \u001b[38;5;34m12\u001b[0m, \u001b[38;5;34m256\u001b[0m)         │               \u001b[38;5;34m0\u001b[0m │\n",
       "├──────────────────────────────────────┼─────────────────────────────┼─────────────────┤\n",
       "│ conv2d_2 (\u001b[38;5;33mConv2D\u001b[0m)                    │ (\u001b[38;5;45mNone\u001b[0m, \u001b[38;5;34m12\u001b[0m, \u001b[38;5;34m12\u001b[0m, \u001b[38;5;34m384\u001b[0m)         │         \u001b[38;5;34m885,120\u001b[0m │\n",
       "├──────────────────────────────────────┼─────────────────────────────┼─────────────────┤\n",
       "│ conv2d_3 (\u001b[38;5;33mConv2D\u001b[0m)                    │ (\u001b[38;5;45mNone\u001b[0m, \u001b[38;5;34m12\u001b[0m, \u001b[38;5;34m12\u001b[0m, \u001b[38;5;34m384\u001b[0m)         │       \u001b[38;5;34m1,327,488\u001b[0m │\n",
       "├──────────────────────────────────────┼─────────────────────────────┼─────────────────┤\n",
       "│ conv2d_4 (\u001b[38;5;33mConv2D\u001b[0m)                    │ (\u001b[38;5;45mNone\u001b[0m, \u001b[38;5;34m12\u001b[0m, \u001b[38;5;34m12\u001b[0m, \u001b[38;5;34m256\u001b[0m)         │         \u001b[38;5;34m884,992\u001b[0m │\n",
       "├──────────────────────────────────────┼─────────────────────────────┼─────────────────┤\n",
       "│ max_pooling2d_2 (\u001b[38;5;33mMaxPooling2D\u001b[0m)       │ (\u001b[38;5;45mNone\u001b[0m, \u001b[38;5;34m5\u001b[0m, \u001b[38;5;34m5\u001b[0m, \u001b[38;5;34m256\u001b[0m)           │               \u001b[38;5;34m0\u001b[0m │\n",
       "├──────────────────────────────────────┼─────────────────────────────┼─────────────────┤\n",
       "│ flatten (\u001b[38;5;33mFlatten\u001b[0m)                    │ (\u001b[38;5;45mNone\u001b[0m, \u001b[38;5;34m6400\u001b[0m)                │               \u001b[38;5;34m0\u001b[0m │\n",
       "├──────────────────────────────────────┼─────────────────────────────┼─────────────────┤\n",
       "│ dense (\u001b[38;5;33mDense\u001b[0m)                        │ (\u001b[38;5;45mNone\u001b[0m, \u001b[38;5;34m4096\u001b[0m)                │      \u001b[38;5;34m26,218,496\u001b[0m │\n",
       "├──────────────────────────────────────┼─────────────────────────────┼─────────────────┤\n",
       "│ dropout (\u001b[38;5;33mDropout\u001b[0m)                    │ (\u001b[38;5;45mNone\u001b[0m, \u001b[38;5;34m4096\u001b[0m)                │               \u001b[38;5;34m0\u001b[0m │\n",
       "├──────────────────────────────────────┼─────────────────────────────┼─────────────────┤\n",
       "│ dense_1 (\u001b[38;5;33mDense\u001b[0m)                      │ (\u001b[38;5;45mNone\u001b[0m, \u001b[38;5;34m4096\u001b[0m)                │      \u001b[38;5;34m16,781,312\u001b[0m │\n",
       "├──────────────────────────────────────┼─────────────────────────────┼─────────────────┤\n",
       "│ dropout_1 (\u001b[38;5;33mDropout\u001b[0m)                  │ (\u001b[38;5;45mNone\u001b[0m, \u001b[38;5;34m4096\u001b[0m)                │               \u001b[38;5;34m0\u001b[0m │\n",
       "├──────────────────────────────────────┼─────────────────────────────┼─────────────────┤\n",
       "│ dense_2 (\u001b[38;5;33mDense\u001b[0m)                      │ (\u001b[38;5;45mNone\u001b[0m, \u001b[38;5;34m2\u001b[0m)                   │           \u001b[38;5;34m8,194\u001b[0m │\n",
       "└──────────────────────────────────────┴─────────────────────────────┴─────────────────┘\n"
      ]
     },
     "metadata": {},
     "output_type": "display_data"
    },
    {
     "data": {
      "text/html": [
       "<pre style=\"white-space:pre;overflow-x:auto;line-height:normal;font-family:Menlo,'DejaVu Sans Mono',consolas,'Courier New',monospace\"><span style=\"font-weight: bold\"> Total params: </span><span style=\"color: #00af00; text-decoration-color: #00af00\">46,755,202</span> (178.36 MB)\n",
       "</pre>\n"
      ],
      "text/plain": [
       "\u001b[1m Total params: \u001b[0m\u001b[38;5;34m46,755,202\u001b[0m (178.36 MB)\n"
      ]
     },
     "metadata": {},
     "output_type": "display_data"
    },
    {
     "data": {
      "text/html": [
       "<pre style=\"white-space:pre;overflow-x:auto;line-height:normal;font-family:Menlo,'DejaVu Sans Mono',consolas,'Courier New',monospace\"><span style=\"font-weight: bold\"> Trainable params: </span><span style=\"color: #00af00; text-decoration-color: #00af00\">46,755,202</span> (178.36 MB)\n",
       "</pre>\n"
      ],
      "text/plain": [
       "\u001b[1m Trainable params: \u001b[0m\u001b[38;5;34m46,755,202\u001b[0m (178.36 MB)\n"
      ]
     },
     "metadata": {},
     "output_type": "display_data"
    },
    {
     "data": {
      "text/html": [
       "<pre style=\"white-space:pre;overflow-x:auto;line-height:normal;font-family:Menlo,'DejaVu Sans Mono',consolas,'Courier New',monospace\"><span style=\"font-weight: bold\"> Non-trainable params: </span><span style=\"color: #00af00; text-decoration-color: #00af00\">0</span> (0.00 B)\n",
       "</pre>\n"
      ],
      "text/plain": [
       "\u001b[1m Non-trainable params: \u001b[0m\u001b[38;5;34m0\u001b[0m (0.00 B)\n"
      ]
     },
     "metadata": {},
     "output_type": "display_data"
    }
   ],
   "source": [
    "from tensorflow.keras.models import Sequential\n",
    "from tensorflow.keras.layers import Conv2D, MaxPooling2D, Flatten, Dense, Dropout, BatchNormalization\n",
    "from tensorflow.keras.optimizers import Adam\n",
    "\n",
    "def build_alexnet(input_shape=(224,224,3), num_classes=2):\n",
    "    model = Sequential()\n",
    "\n",
    "    # 1st Convolutional Layer\n",
    "    model.add(Conv2D(96, (11,11), strides=(4,4), activation='relu', input_shape=input_shape))\n",
    "    model.add(MaxPooling2D((3,3), strides=(2,2)))\n",
    "    \n",
    "    # 2nd Convolutional Layer\n",
    "    model.add(Conv2D(256, (5,5), padding='same', activation='relu'))\n",
    "    model.add(MaxPooling2D((3,3), strides=(2,2)))\n",
    "    \n",
    "    # 3rd, 4th, 5th Convolutional Layers\n",
    "    model.add(Conv2D(384, (3,3), padding='same', activation='relu'))\n",
    "    model.add(Conv2D(384, (3,3), padding='same', activation='relu'))\n",
    "    model.add(Conv2D(256, (3,3), padding='same', activation='relu'))\n",
    "    model.add(MaxPooling2D((3,3), strides=(2,2)))\n",
    "    \n",
    "    # Flatten\n",
    "    model.add(Flatten())\n",
    "    \n",
    "    # Fully Connected Layers\n",
    "    model.add(Dense(4096, activation='relu'))\n",
    "    model.add(Dropout(0.5))\n",
    "    model.add(Dense(4096, activation='relu'))\n",
    "    model.add(Dropout(0.5))\n",
    "    \n",
    "    # Output Layer\n",
    "    model.add(Dense(num_classes, activation='softmax'))\n",
    "\n",
    "    # Compile\n",
    "    model.compile(optimizer=Adam(learning_rate=0.0001), \n",
    "                  loss='categorical_crossentropy', \n",
    "                  metrics=['accuracy'])\n",
    "    \n",
    "    return model\n",
    "\n",
    "model = build_alexnet()\n",
    "model.summary()\n"
   ]
  },
  {
   "cell_type": "code",
   "execution_count": 6,
   "id": "fab41eed-6095-45b8-a38f-824820ab873f",
   "metadata": {},
   "outputs": [
    {
     "name": "stdout",
     "output_type": "stream",
     "text": [
      "Collecting scipy\n",
      "  Downloading scipy-1.16.2-cp311-cp311-win_amd64.whl.metadata (60 kB)\n",
      "     ---------------------------------------- 0.0/60.8 kB ? eta -:--:--\n",
      "     ------ --------------------------------- 10.2/60.8 kB ? eta -:--:--\n",
      "     ------------ ------------------------- 20.5/60.8 kB 217.9 kB/s eta 0:00:01\n",
      "     ------------------------------- ------ 51.2/60.8 kB 375.8 kB/s eta 0:00:01\n",
      "     ------------------------------- ------ 51.2/60.8 kB 375.8 kB/s eta 0:00:01\n",
      "     ------------------------------- ------ 51.2/60.8 kB 375.8 kB/s eta 0:00:01\n",
      "     ------------------------------- ------ 51.2/60.8 kB 375.8 kB/s eta 0:00:01\n",
      "     -------------------------------------- 60.8/60.8 kB 162.1 kB/s eta 0:00:00\n",
      "Requirement already satisfied: numpy<2.6,>=1.25.2 in c:\\my drive\\learn practically\\spark\\myenv\\lib\\site-packages (from scipy) (2.2.6)\n",
      "Downloading scipy-1.16.2-cp311-cp311-win_amd64.whl (38.7 MB)\n",
      "   ---------------------------------------- 0.0/38.7 MB ? eta -:--:--\n",
      "   ---------------------------------------- 0.1/38.7 MB 1.5 MB/s eta 0:00:26\n",
      "   ---------------------------------------- 0.3/38.7 MB 3.4 MB/s eta 0:00:12\n",
      "   ---------------------------------------- 0.5/38.7 MB 3.1 MB/s eta 0:00:13\n",
      "    --------------------------------------- 0.7/38.7 MB 3.6 MB/s eta 0:00:11\n",
      "    --------------------------------------- 0.9/38.7 MB 4.3 MB/s eta 0:00:09\n",
      "   - -------------------------------------- 1.2/38.7 MB 4.5 MB/s eta 0:00:09\n",
      "   - -------------------------------------- 1.5/38.7 MB 4.6 MB/s eta 0:00:09\n",
      "   - -------------------------------------- 1.8/38.7 MB 4.9 MB/s eta 0:00:08\n",
      "   -- ------------------------------------- 2.2/38.7 MB 5.4 MB/s eta 0:00:07\n",
      "   -- ------------------------------------- 2.6/38.7 MB 5.7 MB/s eta 0:00:07\n",
      "   --- ------------------------------------ 3.0/38.7 MB 6.1 MB/s eta 0:00:06\n",
      "   --- ------------------------------------ 3.5/38.7 MB 6.1 MB/s eta 0:00:06\n",
      "   ---- ----------------------------------- 4.0/38.7 MB 6.6 MB/s eta 0:00:06\n",
      "   ---- ----------------------------------- 4.6/38.7 MB 7.0 MB/s eta 0:00:05\n",
      "   ----- ---------------------------------- 5.1/38.7 MB 7.2 MB/s eta 0:00:05\n",
      "   ----- ---------------------------------- 5.5/38.7 MB 7.4 MB/s eta 0:00:05\n",
      "   ------ --------------------------------- 6.0/38.7 MB 7.5 MB/s eta 0:00:05\n",
      "   ------ --------------------------------- 6.3/38.7 MB 7.6 MB/s eta 0:00:05\n",
      "   ------ --------------------------------- 6.7/38.7 MB 7.6 MB/s eta 0:00:05\n",
      "   ------- -------------------------------- 7.2/38.7 MB 7.9 MB/s eta 0:00:04\n",
      "   -------- ------------------------------- 7.8/38.7 MB 8.2 MB/s eta 0:00:04\n",
      "   -------- ------------------------------- 8.2/38.7 MB 8.2 MB/s eta 0:00:04\n",
      "   -------- ------------------------------- 8.6/38.7 MB 8.4 MB/s eta 0:00:04\n",
      "   --------- ------------------------------ 9.0/38.7 MB 8.4 MB/s eta 0:00:04\n",
      "   --------- ------------------------------ 9.5/38.7 MB 8.6 MB/s eta 0:00:04\n",
      "   ---------- ----------------------------- 10.0/38.7 MB 8.7 MB/s eta 0:00:04\n",
      "   ---------- ----------------------------- 10.5/38.7 MB 9.2 MB/s eta 0:00:04\n",
      "   ----------- ---------------------------- 11.0/38.7 MB 9.9 MB/s eta 0:00:03\n",
      "   ------------ --------------------------- 11.6/38.7 MB 10.2 MB/s eta 0:00:03\n",
      "   ------------ --------------------------- 12.1/38.7 MB 10.7 MB/s eta 0:00:03\n",
      "   ------------- -------------------------- 12.8/38.7 MB 11.3 MB/s eta 0:00:03\n",
      "   ------------- -------------------------- 13.4/38.7 MB 11.7 MB/s eta 0:00:03\n",
      "   -------------- ------------------------- 13.8/38.7 MB 11.7 MB/s eta 0:00:03\n",
      "   -------------- ------------------------- 14.3/38.7 MB 11.7 MB/s eta 0:00:03\n",
      "   --------------- ------------------------ 15.2/38.7 MB 12.1 MB/s eta 0:00:02\n",
      "   ---------------- ----------------------- 15.7/38.7 MB 12.1 MB/s eta 0:00:02\n",
      "   ----------------- ---------------------- 16.5/38.7 MB 12.6 MB/s eta 0:00:02\n",
      "   ----------------- ---------------------- 17.0/38.7 MB 12.6 MB/s eta 0:00:02\n",
      "   ------------------ --------------------- 17.7/38.7 MB 12.8 MB/s eta 0:00:02\n",
      "   ------------------ --------------------- 18.3/38.7 MB 12.8 MB/s eta 0:00:02\n",
      "   ------------------- -------------------- 19.0/38.7 MB 12.8 MB/s eta 0:00:02\n",
      "   -------------------- ------------------- 19.4/38.7 MB 13.1 MB/s eta 0:00:02\n",
      "   -------------------- ------------------- 20.1/38.7 MB 12.8 MB/s eta 0:00:02\n",
      "   --------------------- ------------------ 20.7/38.7 MB 13.1 MB/s eta 0:00:02\n",
      "   --------------------- ------------------ 21.2/38.7 MB 13.1 MB/s eta 0:00:02\n",
      "   ---------------------- ----------------- 21.9/38.7 MB 13.4 MB/s eta 0:00:02\n",
      "   ----------------------- ---------------- 22.5/38.7 MB 13.4 MB/s eta 0:00:02\n",
      "   ----------------------- ---------------- 23.1/38.7 MB 13.1 MB/s eta 0:00:02\n",
      "   ------------------------ --------------- 23.6/38.7 MB 12.8 MB/s eta 0:00:02\n",
      "   ------------------------ --------------- 24.1/38.7 MB 12.9 MB/s eta 0:00:02\n",
      "   ------------------------- -------------- 24.6/38.7 MB 12.8 MB/s eta 0:00:02\n",
      "   ------------------------- -------------- 24.9/38.7 MB 12.4 MB/s eta 0:00:02\n",
      "   -------------------------- ------------- 25.5/38.7 MB 12.1 MB/s eta 0:00:02\n",
      "   --------------------------- ------------ 26.2/38.7 MB 12.6 MB/s eta 0:00:01\n",
      "   --------------------------- ------------ 26.7/38.7 MB 12.1 MB/s eta 0:00:01\n",
      "   ---------------------------- ----------- 27.5/38.7 MB 12.4 MB/s eta 0:00:01\n",
      "   ----------------------------- ---------- 28.1/38.7 MB 12.3 MB/s eta 0:00:01\n",
      "   ----------------------------- ---------- 28.8/38.7 MB 12.4 MB/s eta 0:00:01\n",
      "   ------------------------------ --------- 29.4/38.7 MB 12.6 MB/s eta 0:00:01\n",
      "   ------------------------------ --------- 30.0/38.7 MB 12.1 MB/s eta 0:00:01\n",
      "   ------------------------------- -------- 30.8/38.7 MB 12.6 MB/s eta 0:00:01\n",
      "   -------------------------------- ------- 31.3/38.7 MB 12.6 MB/s eta 0:00:01\n",
      "   -------------------------------- ------- 31.8/38.7 MB 12.4 MB/s eta 0:00:01\n",
      "   --------------------------------- ------ 32.3/38.7 MB 12.6 MB/s eta 0:00:01\n",
      "   --------------------------------- ------ 32.8/38.7 MB 11.9 MB/s eta 0:00:01\n",
      "   ---------------------------------- ----- 33.4/38.7 MB 12.1 MB/s eta 0:00:01\n",
      "   ----------------------------------- ---- 34.2/38.7 MB 12.6 MB/s eta 0:00:01\n",
      "   ------------------------------------ --- 35.0/38.7 MB 13.4 MB/s eta 0:00:01\n",
      "   ------------------------------------ --- 35.7/38.7 MB 13.4 MB/s eta 0:00:01\n",
      "   ------------------------------------- -- 36.4/38.7 MB 13.6 MB/s eta 0:00:01\n",
      "   -------------------------------------- - 37.2/38.7 MB 13.9 MB/s eta 0:00:01\n",
      "   ---------------------------------------  37.8/38.7 MB 13.9 MB/s eta 0:00:01\n",
      "   ---------------------------------------  38.4/38.7 MB 13.9 MB/s eta 0:00:01\n",
      "   ---------------------------------------  38.7/38.7 MB 13.6 MB/s eta 0:00:01\n",
      "   ---------------------------------------  38.7/38.7 MB 13.6 MB/s eta 0:00:01\n",
      "   ---------------------------------------  38.7/38.7 MB 13.6 MB/s eta 0:00:01\n",
      "   ---------------------------------------  38.7/38.7 MB 13.6 MB/s eta 0:00:01\n",
      "   ---------------------------------------  38.7/38.7 MB 13.6 MB/s eta 0:00:01\n",
      "   ---------------------------------------  38.7/38.7 MB 13.6 MB/s eta 0:00:01\n",
      "   ---------------------------------------  38.7/38.7 MB 13.6 MB/s eta 0:00:01\n",
      "   ---------------------------------------  38.7/38.7 MB 13.6 MB/s eta 0:00:01\n",
      "   ---------------------------------------  38.7/38.7 MB 13.6 MB/s eta 0:00:01\n",
      "   ---------------------------------------  38.7/38.7 MB 13.6 MB/s eta 0:00:01\n",
      "   ---------------------------------------  38.7/38.7 MB 13.6 MB/s eta 0:00:01\n",
      "   ---------------------------------------  38.7/38.7 MB 13.6 MB/s eta 0:00:01\n",
      "   ---------------------------------------  38.7/38.7 MB 13.6 MB/s eta 0:00:01\n",
      "   ---------------------------------------  38.7/38.7 MB 13.6 MB/s eta 0:00:01\n",
      "   ---------------------------------------  38.7/38.7 MB 13.6 MB/s eta 0:00:01\n",
      "   ---------------------------------------- 38.7/38.7 MB 6.8 MB/s eta 0:00:00\n",
      "Installing collected packages: scipy\n",
      "Successfully installed scipy-1.16.2\n",
      "Note: you may need to restart the kernel to use updated packages.\n"
     ]
    },
    {
     "name": "stderr",
     "output_type": "stream",
     "text": [
      "\n",
      "[notice] A new release of pip is available: 24.0 -> 25.2\n",
      "[notice] To update, run: C:\\My drive\\Learn practically\\Spark\\myenv\\Scripts\\python.exe -m pip install --upgrade pip\n"
     ]
    }
   ],
   "source": [
    "pip install scipy"
   ]
  },
  {
   "cell_type": "code",
   "execution_count": 8,
   "id": "ed0a41d2-2d1f-4a67-8ca3-6d805f903e51",
   "metadata": {},
   "outputs": [
    {
     "name": "stdout",
     "output_type": "stream",
     "text": [
      "Found 6043 images belonging to 2 classes.\n",
      "Found 1510 images belonging to 2 classes.\n",
      "Epoch 1/5\n",
      "\u001b[1m189/189\u001b[0m \u001b[32m━━━━━━━━━━━━━━━━━━━━\u001b[0m\u001b[37m\u001b[0m \u001b[1m410s\u001b[0m 2s/step - accuracy: 0.9264 - loss: 0.2045 - val_accuracy: 0.9517 - val_loss: 0.1483\n",
      "Epoch 2/5\n",
      "\u001b[1m189/189\u001b[0m \u001b[32m━━━━━━━━━━━━━━━━━━━━\u001b[0m\u001b[37m\u001b[0m \u001b[1m418s\u001b[0m 2s/step - accuracy: 0.9376 - loss: 0.1706 - val_accuracy: 0.9530 - val_loss: 0.1553\n",
      "Epoch 3/5\n",
      "\u001b[1m189/189\u001b[0m \u001b[32m━━━━━━━━━━━━━━━━━━━━\u001b[0m\u001b[37m\u001b[0m \u001b[1m424s\u001b[0m 2s/step - accuracy: 0.9475 - loss: 0.1481 - val_accuracy: 0.9417 - val_loss: 0.1646\n",
      "Epoch 4/5\n",
      "\u001b[1m189/189\u001b[0m \u001b[32m━━━━━━━━━━━━━━━━━━━━\u001b[0m\u001b[37m\u001b[0m \u001b[1m520s\u001b[0m 3s/step - accuracy: 0.9517 - loss: 0.1344 - val_accuracy: 0.9364 - val_loss: 0.1585\n",
      "Epoch 5/5\n",
      "\u001b[1m189/189\u001b[0m \u001b[32m━━━━━━━━━━━━━━━━━━━━\u001b[0m\u001b[37m\u001b[0m \u001b[1m737s\u001b[0m 4s/step - accuracy: 0.9565 - loss: 0.1207 - val_accuracy: 0.9457 - val_loss: 0.1453\n"
     ]
    }
   ],
   "source": [
    "from tensorflow.keras.preprocessing.image import ImageDataGenerator\n",
    "\n",
    "# Data Augmentation\n",
    "datagen = ImageDataGenerator(rescale=1./255,\n",
    "                             rotation_range=20,\n",
    "                             zoom_range=0.2,\n",
    "                             shear_range=0.2,\n",
    "                             horizontal_flip=True,\n",
    "                             validation_split=0.2)\n",
    "\n",
    "train_gen = datagen.flow_from_directory(\"C:\\\\Users\\\\shari\\\\Downloads\\\\mask\\\\data\",\n",
    "                                        target_size=(224,224),\n",
    "                                        batch_size=32,\n",
    "                                        class_mode='categorical',\n",
    "                                        subset='training')\n",
    "\n",
    "val_gen = datagen.flow_from_directory(\"C:\\\\Users\\\\shari\\\\Downloads\\\\mask\\\\data\", \n",
    "                                      target_size=(224,224),\n",
    "                                      batch_size=32,\n",
    "                                      class_mode='categorical',\n",
    "                                      subset='validation')\n",
    "\n",
    "# Train\n",
    "'''\n",
    "history = model.fit(train_gen, \n",
    "                    validation_data=val_gen, \n",
    "                    epochs=20, \n",
    "                    batch_size=32)\n",
    "'''\n",
    "history = model.fit(train_gen, \n",
    "                    validation_data=val_gen, \n",
    "                    epochs=5, \n",
    "                    batch_size=16)"
   ]
  },
  {
   "cell_type": "code",
   "execution_count": 11,
   "id": "c181d6fb-b2c3-4c68-9949-74e27eb36d00",
   "metadata": {},
   "outputs": [],
   "source": [
    "import cv2\n",
    "import numpy as np\n",
    "\n",
    "face_cascade = cv2.CascadeClassifier(cv2.data.haarcascades + 'haarcascade_frontalface_default.xml')\n",
    "\n",
    "cap = cv2.VideoCapture(0)  # webcam\n",
    "\n",
    "while True:\n",
    "    ret, frame = cap.read()\n",
    "    if not ret:\n",
    "        break\n",
    "\n",
    "    gray = cv2.cvtColor(frame, cv2.COLOR_BGR2GRAY)\n",
    "    faces = face_cascade.detectMultiScale(gray, 1.3, 5)\n",
    "\n",
    "    for (x, y, w, h) in faces:\n",
    "        face = frame[y:y+h, x:x+w]\n",
    "        face_resized = cv2.resize(face, (224,224))\n",
    "        face_resized = face_resized.astype(\"float32\") / 255.0\n",
    "        face_resized = np.expand_dims(face_resized, axis=0)\n",
    "\n",
    "        prediction = model.predict(face_resized, verbose=0)\n",
    "        label = \"Mask 😷\" if np.argmax(prediction)==0 else \"No Mask ❌\"\n",
    "\n",
    "        color = (0,255,0) if label==\"Mask 😷\" else (0,0,255)\n",
    "        cv2.putText(frame, label, (x,y-10), cv2.FONT_HERSHEY_SIMPLEX, 0.9, color, 2)\n",
    "        cv2.rectangle(frame, (x,y), (x+w, y+h), color, 2)\n",
    "\n",
    "    cv2.imshow(\"Face Mask Detection - AlexNet\", frame)\n",
    "\n",
    "    if cv2.waitKey(1) & 0xFF == ord('q'):\n",
    "        break\n",
    "\n",
    "cap.release()\n",
    "cv2.destroyAllWindows()\n"
   ]
  },
  {
   "cell_type": "code",
   "execution_count": null,
   "id": "f0ce0cea-9c50-4358-b21b-3a097fc30f64",
   "metadata": {},
   "outputs": [],
   "source": []
  }
 ],
 "metadata": {
  "kernelspec": {
   "display_name": "Python (myenv)",
   "language": "python",
   "name": "myenv"
  },
  "language_info": {
   "codemirror_mode": {
    "name": "ipython",
    "version": 3
   },
   "file_extension": ".py",
   "mimetype": "text/x-python",
   "name": "python",
   "nbconvert_exporter": "python",
   "pygments_lexer": "ipython3",
   "version": "3.11.9"
  }
 },
 "nbformat": 4,
 "nbformat_minor": 5
}
