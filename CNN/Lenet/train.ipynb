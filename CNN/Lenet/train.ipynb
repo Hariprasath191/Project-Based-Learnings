{
 "cells": [
  {
   "cell_type": "code",
   "execution_count": 52,
   "id": "296ee173-ac86-4b39-8fc3-34b301b70406",
   "metadata": {},
   "outputs": [],
   "source": [
    "# LeNet-5 Implementation in Keras for MNIST\n",
    "\n",
    "import tensorflow as tf\n",
    "from tensorflow.keras import layers, models\n",
    "from tensorflow.keras.datasets import mnist\n",
    "from tensorflow.keras.utils import to_categorical"
   ]
  },
  {
   "cell_type": "code",
   "execution_count": 53,
   "id": "886b8ee9-8e2d-419a-a0c7-6e7d05d2ae81",
   "metadata": {},
   "outputs": [],
   "source": [
    "# 1. Load and Preprocess Data\n",
    "# ----------------------\n",
    "(x_train, y_train), (x_test, y_test) = mnist.load_data()\n"
   ]
  },
  {
   "cell_type": "code",
   "execution_count": 54,
   "id": "e7d6e8a3-d4e8-4ea1-b782-82bd2c77532d",
   "metadata": {},
   "outputs": [],
   "source": [
    "# Resize images to 32x32 and normalize\n",
    "x_train = tf.image.resize_with_pad(tf.expand_dims(x_train, -1), 32, 32)/255.0\n",
    "x_test  = tf.image.resize_with_pad(tf.expand_dims(x_test, -1), 32, 32)/255.0\n"
   ]
  },
  {
   "cell_type": "code",
   "execution_count": 55,
   "id": "91819958-8e0a-48b2-858d-ce42815f1eac",
   "metadata": {},
   "outputs": [],
   "source": [
    "# One-hot encode labels\n",
    "y_train = to_categorical(y_train, 10)\n",
    "y_test  = to_categorical(y_test, 10)\n"
   ]
  },
  {
   "cell_type": "code",
   "execution_count": 56,
   "id": "7ecd62dd-5384-4ca0-b58b-57c539b0af00",
   "metadata": {},
   "outputs": [],
   "source": [
    "# 2. Build LeNet Model\n",
    "# ----------------------\n",
    "model = models.Sequential([\n",
    "    # C1: Conv layer\n",
    "    layers.Conv2D(6, kernel_size=(5,5), activation='tanh', input_shape=(32,32,1)),\n",
    "    # S2: Average Pooling\n",
    "    layers.AveragePooling2D(pool_size=(2,2)),\n",
    "    \n",
    "    # C3: Conv layer\n",
    "    layers.Conv2D(16, kernel_size=(5,5), activation='tanh'),\n",
    "    # S4: Average Pooling\n",
    "    layers.AveragePooling2D(pool_size=(2,2)),\n",
    "    \n",
    "    # Flatten for FC layers\n",
    "    layers.Flatten(),\n",
    "    \n",
    "    # C5: Fully Connected\n",
    "    layers.Dense(120, activation='tanh'),\n",
    "    # F6: Fully Connected\n",
    "    layers.Dense(84, activation='tanh'),\n",
    "    \n",
    "    # Output layer\n",
    "    layers.Dense(10, activation='softmax')\n",
    "])\n"
   ]
  },
  {
   "cell_type": "code",
   "execution_count": 63,
   "id": "9b2810a8-c023-402b-b72f-8660c00b6b2c",
   "metadata": {},
   "outputs": [],
   "source": [
    "# ----------------------\n",
    "# 3. Compile the Model\n",
    "# ----------------------\n",
    "model.compile(optimizer='adam', loss='categorical_crossentropy', metrics=['accuracy'])\n"
   ]
  },
  {
   "cell_type": "code",
   "execution_count": 64,
   "id": "7ec22060-a44c-4d05-be1f-5574b550a1f9",
   "metadata": {},
   "outputs": [
    {
     "data": {
      "text/html": [
       "<pre style=\"white-space:pre;overflow-x:auto;line-height:normal;font-family:Menlo,'DejaVu Sans Mono',consolas,'Courier New',monospace\"><span style=\"font-weight: bold\">Model: \"sequential_3\"</span>\n",
       "</pre>\n"
      ],
      "text/plain": [
       "\u001b[1mModel: \"sequential_3\"\u001b[0m\n"
      ]
     },
     "metadata": {},
     "output_type": "display_data"
    },
    {
     "data": {
      "text/html": [
       "<pre style=\"white-space:pre;overflow-x:auto;line-height:normal;font-family:Menlo,'DejaVu Sans Mono',consolas,'Courier New',monospace\">┏━━━━━━━━━━━━━━━━━━━━━━━━━━━━━━━━━━━━━━┳━━━━━━━━━━━━━━━━━━━━━━━━━━━━━┳━━━━━━━━━━━━━━━━━┓\n",
       "┃<span style=\"font-weight: bold\"> Layer (type)                         </span>┃<span style=\"font-weight: bold\"> Output Shape                </span>┃<span style=\"font-weight: bold\">         Param # </span>┃\n",
       "┡━━━━━━━━━━━━━━━━━━━━━━━━━━━━━━━━━━━━━━╇━━━━━━━━━━━━━━━━━━━━━━━━━━━━━╇━━━━━━━━━━━━━━━━━┩\n",
       "│ conv2d_6 (<span style=\"color: #0087ff; text-decoration-color: #0087ff\">Conv2D</span>)                    │ (<span style=\"color: #00d7ff; text-decoration-color: #00d7ff\">None</span>, <span style=\"color: #00af00; text-decoration-color: #00af00\">28</span>, <span style=\"color: #00af00; text-decoration-color: #00af00\">28</span>, <span style=\"color: #00af00; text-decoration-color: #00af00\">6</span>)           │             <span style=\"color: #00af00; text-decoration-color: #00af00\">156</span> │\n",
       "├──────────────────────────────────────┼─────────────────────────────┼─────────────────┤\n",
       "│ average_pooling2d (<span style=\"color: #0087ff; text-decoration-color: #0087ff\">AveragePooling2D</span>) │ (<span style=\"color: #00d7ff; text-decoration-color: #00d7ff\">None</span>, <span style=\"color: #00af00; text-decoration-color: #00af00\">14</span>, <span style=\"color: #00af00; text-decoration-color: #00af00\">14</span>, <span style=\"color: #00af00; text-decoration-color: #00af00\">6</span>)           │               <span style=\"color: #00af00; text-decoration-color: #00af00\">0</span> │\n",
       "├──────────────────────────────────────┼─────────────────────────────┼─────────────────┤\n",
       "│ conv2d_7 (<span style=\"color: #0087ff; text-decoration-color: #0087ff\">Conv2D</span>)                    │ (<span style=\"color: #00d7ff; text-decoration-color: #00d7ff\">None</span>, <span style=\"color: #00af00; text-decoration-color: #00af00\">10</span>, <span style=\"color: #00af00; text-decoration-color: #00af00\">10</span>, <span style=\"color: #00af00; text-decoration-color: #00af00\">16</span>)          │           <span style=\"color: #00af00; text-decoration-color: #00af00\">2,416</span> │\n",
       "├──────────────────────────────────────┼─────────────────────────────┼─────────────────┤\n",
       "│ average_pooling2d_1                  │ (<span style=\"color: #00d7ff; text-decoration-color: #00d7ff\">None</span>, <span style=\"color: #00af00; text-decoration-color: #00af00\">5</span>, <span style=\"color: #00af00; text-decoration-color: #00af00\">5</span>, <span style=\"color: #00af00; text-decoration-color: #00af00\">16</span>)            │               <span style=\"color: #00af00; text-decoration-color: #00af00\">0</span> │\n",
       "│ (<span style=\"color: #0087ff; text-decoration-color: #0087ff\">AveragePooling2D</span>)                   │                             │                 │\n",
       "├──────────────────────────────────────┼─────────────────────────────┼─────────────────┤\n",
       "│ flatten_3 (<span style=\"color: #0087ff; text-decoration-color: #0087ff\">Flatten</span>)                  │ (<span style=\"color: #00d7ff; text-decoration-color: #00d7ff\">None</span>, <span style=\"color: #00af00; text-decoration-color: #00af00\">400</span>)                 │               <span style=\"color: #00af00; text-decoration-color: #00af00\">0</span> │\n",
       "├──────────────────────────────────────┼─────────────────────────────┼─────────────────┤\n",
       "│ dense_9 (<span style=\"color: #0087ff; text-decoration-color: #0087ff\">Dense</span>)                      │ (<span style=\"color: #00d7ff; text-decoration-color: #00d7ff\">None</span>, <span style=\"color: #00af00; text-decoration-color: #00af00\">120</span>)                 │          <span style=\"color: #00af00; text-decoration-color: #00af00\">48,120</span> │\n",
       "├──────────────────────────────────────┼─────────────────────────────┼─────────────────┤\n",
       "│ dense_10 (<span style=\"color: #0087ff; text-decoration-color: #0087ff\">Dense</span>)                     │ (<span style=\"color: #00d7ff; text-decoration-color: #00d7ff\">None</span>, <span style=\"color: #00af00; text-decoration-color: #00af00\">84</span>)                  │          <span style=\"color: #00af00; text-decoration-color: #00af00\">10,164</span> │\n",
       "├──────────────────────────────────────┼─────────────────────────────┼─────────────────┤\n",
       "│ dense_11 (<span style=\"color: #0087ff; text-decoration-color: #0087ff\">Dense</span>)                     │ (<span style=\"color: #00d7ff; text-decoration-color: #00d7ff\">None</span>, <span style=\"color: #00af00; text-decoration-color: #00af00\">10</span>)                  │             <span style=\"color: #00af00; text-decoration-color: #00af00\">850</span> │\n",
       "└──────────────────────────────────────┴─────────────────────────────┴─────────────────┘\n",
       "</pre>\n"
      ],
      "text/plain": [
       "┏━━━━━━━━━━━━━━━━━━━━━━━━━━━━━━━━━━━━━━┳━━━━━━━━━━━━━━━━━━━━━━━━━━━━━┳━━━━━━━━━━━━━━━━━┓\n",
       "┃\u001b[1m \u001b[0m\u001b[1mLayer (type)                        \u001b[0m\u001b[1m \u001b[0m┃\u001b[1m \u001b[0m\u001b[1mOutput Shape               \u001b[0m\u001b[1m \u001b[0m┃\u001b[1m \u001b[0m\u001b[1m        Param #\u001b[0m\u001b[1m \u001b[0m┃\n",
       "┡━━━━━━━━━━━━━━━━━━━━━━━━━━━━━━━━━━━━━━╇━━━━━━━━━━━━━━━━━━━━━━━━━━━━━╇━━━━━━━━━━━━━━━━━┩\n",
       "│ conv2d_6 (\u001b[38;5;33mConv2D\u001b[0m)                    │ (\u001b[38;5;45mNone\u001b[0m, \u001b[38;5;34m28\u001b[0m, \u001b[38;5;34m28\u001b[0m, \u001b[38;5;34m6\u001b[0m)           │             \u001b[38;5;34m156\u001b[0m │\n",
       "├──────────────────────────────────────┼─────────────────────────────┼─────────────────┤\n",
       "│ average_pooling2d (\u001b[38;5;33mAveragePooling2D\u001b[0m) │ (\u001b[38;5;45mNone\u001b[0m, \u001b[38;5;34m14\u001b[0m, \u001b[38;5;34m14\u001b[0m, \u001b[38;5;34m6\u001b[0m)           │               \u001b[38;5;34m0\u001b[0m │\n",
       "├──────────────────────────────────────┼─────────────────────────────┼─────────────────┤\n",
       "│ conv2d_7 (\u001b[38;5;33mConv2D\u001b[0m)                    │ (\u001b[38;5;45mNone\u001b[0m, \u001b[38;5;34m10\u001b[0m, \u001b[38;5;34m10\u001b[0m, \u001b[38;5;34m16\u001b[0m)          │           \u001b[38;5;34m2,416\u001b[0m │\n",
       "├──────────────────────────────────────┼─────────────────────────────┼─────────────────┤\n",
       "│ average_pooling2d_1                  │ (\u001b[38;5;45mNone\u001b[0m, \u001b[38;5;34m5\u001b[0m, \u001b[38;5;34m5\u001b[0m, \u001b[38;5;34m16\u001b[0m)            │               \u001b[38;5;34m0\u001b[0m │\n",
       "│ (\u001b[38;5;33mAveragePooling2D\u001b[0m)                   │                             │                 │\n",
       "├──────────────────────────────────────┼─────────────────────────────┼─────────────────┤\n",
       "│ flatten_3 (\u001b[38;5;33mFlatten\u001b[0m)                  │ (\u001b[38;5;45mNone\u001b[0m, \u001b[38;5;34m400\u001b[0m)                 │               \u001b[38;5;34m0\u001b[0m │\n",
       "├──────────────────────────────────────┼─────────────────────────────┼─────────────────┤\n",
       "│ dense_9 (\u001b[38;5;33mDense\u001b[0m)                      │ (\u001b[38;5;45mNone\u001b[0m, \u001b[38;5;34m120\u001b[0m)                 │          \u001b[38;5;34m48,120\u001b[0m │\n",
       "├──────────────────────────────────────┼─────────────────────────────┼─────────────────┤\n",
       "│ dense_10 (\u001b[38;5;33mDense\u001b[0m)                     │ (\u001b[38;5;45mNone\u001b[0m, \u001b[38;5;34m84\u001b[0m)                  │          \u001b[38;5;34m10,164\u001b[0m │\n",
       "├──────────────────────────────────────┼─────────────────────────────┼─────────────────┤\n",
       "│ dense_11 (\u001b[38;5;33mDense\u001b[0m)                     │ (\u001b[38;5;45mNone\u001b[0m, \u001b[38;5;34m10\u001b[0m)                  │             \u001b[38;5;34m850\u001b[0m │\n",
       "└──────────────────────────────────────┴─────────────────────────────┴─────────────────┘\n"
      ]
     },
     "metadata": {},
     "output_type": "display_data"
    },
    {
     "data": {
      "text/html": [
       "<pre style=\"white-space:pre;overflow-x:auto;line-height:normal;font-family:Menlo,'DejaVu Sans Mono',consolas,'Courier New',monospace\"><span style=\"font-weight: bold\"> Total params: </span><span style=\"color: #00af00; text-decoration-color: #00af00\">61,706</span> (241.04 KB)\n",
       "</pre>\n"
      ],
      "text/plain": [
       "\u001b[1m Total params: \u001b[0m\u001b[38;5;34m61,706\u001b[0m (241.04 KB)\n"
      ]
     },
     "metadata": {},
     "output_type": "display_data"
    },
    {
     "data": {
      "text/html": [
       "<pre style=\"white-space:pre;overflow-x:auto;line-height:normal;font-family:Menlo,'DejaVu Sans Mono',consolas,'Courier New',monospace\"><span style=\"font-weight: bold\"> Trainable params: </span><span style=\"color: #00af00; text-decoration-color: #00af00\">61,706</span> (241.04 KB)\n",
       "</pre>\n"
      ],
      "text/plain": [
       "\u001b[1m Trainable params: \u001b[0m\u001b[38;5;34m61,706\u001b[0m (241.04 KB)\n"
      ]
     },
     "metadata": {},
     "output_type": "display_data"
    },
    {
     "data": {
      "text/html": [
       "<pre style=\"white-space:pre;overflow-x:auto;line-height:normal;font-family:Menlo,'DejaVu Sans Mono',consolas,'Courier New',monospace\"><span style=\"font-weight: bold\"> Non-trainable params: </span><span style=\"color: #00af00; text-decoration-color: #00af00\">0</span> (0.00 B)\n",
       "</pre>\n"
      ],
      "text/plain": [
       "\u001b[1m Non-trainable params: \u001b[0m\u001b[38;5;34m0\u001b[0m (0.00 B)\n"
      ]
     },
     "metadata": {},
     "output_type": "display_data"
    }
   ],
   "source": [
    "# Show model summary\n",
    "model.summary()"
   ]
  },
  {
   "cell_type": "code",
   "execution_count": 65,
   "id": "15ce48fa-3847-4366-8965-5abbf1da1624",
   "metadata": {},
   "outputs": [
    {
     "name": "stdout",
     "output_type": "stream",
     "text": [
      "Epoch 1/20\n",
      "\u001b[1m469/469\u001b[0m \u001b[32m━━━━━━━━━━━━━━━━━━━━\u001b[0m\u001b[37m\u001b[0m \u001b[1m13s\u001b[0m 20ms/step - accuracy: 0.9086 - loss: 0.3181 - val_accuracy: 0.9496 - val_loss: 0.1663\n",
      "Epoch 2/20\n",
      "\u001b[1m469/469\u001b[0m \u001b[32m━━━━━━━━━━━━━━━━━━━━\u001b[0m\u001b[37m\u001b[0m \u001b[1m10s\u001b[0m 19ms/step - accuracy: 0.9634 - loss: 0.1207 - val_accuracy: 0.9702 - val_loss: 0.0954\n",
      "Epoch 3/20\n",
      "\u001b[1m469/469\u001b[0m \u001b[32m━━━━━━━━━━━━━━━━━━━━\u001b[0m\u001b[37m\u001b[0m \u001b[1m10s\u001b[0m 21ms/step - accuracy: 0.9759 - loss: 0.0807 - val_accuracy: 0.9753 - val_loss: 0.0788\n",
      "Epoch 4/20\n",
      "\u001b[1m469/469\u001b[0m \u001b[32m━━━━━━━━━━━━━━━━━━━━\u001b[0m\u001b[37m\u001b[0m \u001b[1m9s\u001b[0m 20ms/step - accuracy: 0.9818 - loss: 0.0605 - val_accuracy: 0.9766 - val_loss: 0.0734\n",
      "Epoch 5/20\n",
      "\u001b[1m469/469\u001b[0m \u001b[32m━━━━━━━━━━━━━━━━━━━━\u001b[0m\u001b[37m\u001b[0m \u001b[1m9s\u001b[0m 18ms/step - accuracy: 0.9854 - loss: 0.0483 - val_accuracy: 0.9802 - val_loss: 0.0582\n",
      "Epoch 6/20\n",
      "\u001b[1m469/469\u001b[0m \u001b[32m━━━━━━━━━━━━━━━━━━━━\u001b[0m\u001b[37m\u001b[0m \u001b[1m9s\u001b[0m 20ms/step - accuracy: 0.9880 - loss: 0.0384 - val_accuracy: 0.9826 - val_loss: 0.0581\n",
      "Epoch 7/20\n",
      "\u001b[1m469/469\u001b[0m \u001b[32m━━━━━━━━━━━━━━━━━━━━\u001b[0m\u001b[37m\u001b[0m \u001b[1m9s\u001b[0m 19ms/step - accuracy: 0.9905 - loss: 0.0313 - val_accuracy: 0.9820 - val_loss: 0.0543\n",
      "Epoch 8/20\n",
      "\u001b[1m469/469\u001b[0m \u001b[32m━━━━━━━━━━━━━━━━━━━━\u001b[0m\u001b[37m\u001b[0m \u001b[1m10s\u001b[0m 20ms/step - accuracy: 0.9916 - loss: 0.0271 - val_accuracy: 0.9825 - val_loss: 0.0549\n",
      "Epoch 9/20\n",
      "\u001b[1m469/469\u001b[0m \u001b[32m━━━━━━━━━━━━━━━━━━━━\u001b[0m\u001b[37m\u001b[0m \u001b[1m9s\u001b[0m 20ms/step - accuracy: 0.9923 - loss: 0.0236 - val_accuracy: 0.9844 - val_loss: 0.0508\n",
      "Epoch 10/20\n",
      "\u001b[1m469/469\u001b[0m \u001b[32m━━━━━━━━━━━━━━━━━━━━\u001b[0m\u001b[37m\u001b[0m \u001b[1m9s\u001b[0m 20ms/step - accuracy: 0.9944 - loss: 0.0184 - val_accuracy: 0.9838 - val_loss: 0.0509\n",
      "Epoch 11/20\n",
      "\u001b[1m469/469\u001b[0m \u001b[32m━━━━━━━━━━━━━━━━━━━━\u001b[0m\u001b[37m\u001b[0m \u001b[1m10s\u001b[0m 19ms/step - accuracy: 0.9949 - loss: 0.0161 - val_accuracy: 0.9825 - val_loss: 0.0550\n",
      "Epoch 12/20\n",
      "\u001b[1m469/469\u001b[0m \u001b[32m━━━━━━━━━━━━━━━━━━━━\u001b[0m\u001b[37m\u001b[0m \u001b[1m9s\u001b[0m 20ms/step - accuracy: 0.9954 - loss: 0.0142 - val_accuracy: 0.9840 - val_loss: 0.0507\n",
      "Epoch 13/20\n",
      "\u001b[1m469/469\u001b[0m \u001b[32m━━━━━━━━━━━━━━━━━━━━\u001b[0m\u001b[37m\u001b[0m \u001b[1m11s\u001b[0m 20ms/step - accuracy: 0.9962 - loss: 0.0128 - val_accuracy: 0.9854 - val_loss: 0.0534\n",
      "Epoch 14/20\n",
      "\u001b[1m469/469\u001b[0m \u001b[32m━━━━━━━━━━━━━━━━━━━━\u001b[0m\u001b[37m\u001b[0m \u001b[1m10s\u001b[0m 21ms/step - accuracy: 0.9969 - loss: 0.0103 - val_accuracy: 0.9802 - val_loss: 0.0660\n",
      "Epoch 15/20\n",
      "\u001b[1m469/469\u001b[0m \u001b[32m━━━━━━━━━━━━━━━━━━━━\u001b[0m\u001b[37m\u001b[0m \u001b[1m10s\u001b[0m 20ms/step - accuracy: 0.9971 - loss: 0.0092 - val_accuracy: 0.9840 - val_loss: 0.0524\n",
      "Epoch 16/20\n",
      "\u001b[1m469/469\u001b[0m \u001b[32m━━━━━━━━━━━━━━━━━━━━\u001b[0m\u001b[37m\u001b[0m \u001b[1m10s\u001b[0m 20ms/step - accuracy: 0.9975 - loss: 0.0088 - val_accuracy: 0.9858 - val_loss: 0.0514\n",
      "Epoch 17/20\n",
      "\u001b[1m469/469\u001b[0m \u001b[32m━━━━━━━━━━━━━━━━━━━━\u001b[0m\u001b[37m\u001b[0m \u001b[1m8s\u001b[0m 18ms/step - accuracy: 0.9979 - loss: 0.0072 - val_accuracy: 0.9866 - val_loss: 0.0481\n",
      "Epoch 18/20\n",
      "\u001b[1m469/469\u001b[0m \u001b[32m━━━━━━━━━━━━━━━━━━━━\u001b[0m\u001b[37m\u001b[0m \u001b[1m9s\u001b[0m 20ms/step - accuracy: 0.9975 - loss: 0.0082 - val_accuracy: 0.9851 - val_loss: 0.0521\n",
      "Epoch 19/20\n",
      "\u001b[1m469/469\u001b[0m \u001b[32m━━━━━━━━━━━━━━━━━━━━\u001b[0m\u001b[37m\u001b[0m \u001b[1m10s\u001b[0m 21ms/step - accuracy: 0.9976 - loss: 0.0075 - val_accuracy: 0.9860 - val_loss: 0.0514\n",
      "Epoch 20/20\n",
      "\u001b[1m469/469\u001b[0m \u001b[32m━━━━━━━━━━━━━━━━━━━━\u001b[0m\u001b[37m\u001b[0m \u001b[1m9s\u001b[0m 20ms/step - accuracy: 0.9980 - loss: 0.0066 - val_accuracy: 0.9837 - val_loss: 0.0598\n"
     ]
    }
   ],
   "source": [
    "# 4. Train the Model\n",
    "# ----------------------\n",
    "history = model.fit(x_train, y_train,\n",
    "                    batch_size=128,\n",
    "                    epochs=20,\n",
    "                    validation_data=(x_test, y_test),\n",
    "                    verbose=1)"
   ]
  },
  {
   "cell_type": "code",
   "execution_count": 67,
   "id": "b674c3b6-d815-406b-85bb-675f21d4793a",
   "metadata": {},
   "outputs": [
    {
     "name": "stdout",
     "output_type": "stream",
     "text": [
      "Test Loss: 0.05979449301958084\n",
      "Test Accuracy: 0.9836999773979187\n"
     ]
    }
   ],
   "source": [
    "score = model.evaluate(x_test, y_test, verbose=0)\n",
    "print(\"Test Loss:\", score[0])\n",
    "print(\"Test Accuracy:\", score[1])"
   ]
  },
  {
   "cell_type": "code",
   "execution_count": 69,
   "id": "715ebfe6-b298-4f14-b66b-99b6202c5a92",
   "metadata": {},
   "outputs": [
    {
     "name": "stdout",
     "output_type": "stream",
     "text": [
      "Collecting opencv-python\n",
      "  Downloading opencv_python-4.12.0.88-cp37-abi3-win_amd64.whl.metadata (19 kB)\n",
      "Collecting numpy<2.3.0,>=2 (from opencv-python)\n",
      "  Using cached numpy-2.2.6-cp311-cp311-win_amd64.whl.metadata (60 kB)\n",
      "Downloading opencv_python-4.12.0.88-cp37-abi3-win_amd64.whl (39.0 MB)\n",
      "   ---------------------------------------- 0.0/39.0 MB ? eta -:--:--\n",
      "   ---------------------------------------- 0.0/39.0 MB ? eta -:--:--\n",
      "   ---------------------------------------- 0.0/39.0 MB 435.7 kB/s eta 0:01:30\n",
      "   ---------------------------------------- 0.1/39.0 MB 1.1 MB/s eta 0:00:37\n",
      "   ---------------------------------------- 0.3/39.0 MB 1.8 MB/s eta 0:00:21\n",
      "    --------------------------------------- 0.5/39.0 MB 2.4 MB/s eta 0:00:17\n",
      "    --------------------------------------- 0.8/39.0 MB 3.0 MB/s eta 0:00:13\n",
      "   - -------------------------------------- 1.0/39.0 MB 3.3 MB/s eta 0:00:12\n",
      "   - -------------------------------------- 1.3/39.0 MB 3.8 MB/s eta 0:00:10\n",
      "   - -------------------------------------- 1.5/39.0 MB 3.7 MB/s eta 0:00:11\n",
      "   - -------------------------------------- 1.8/39.0 MB 4.0 MB/s eta 0:00:10\n",
      "   -- ------------------------------------- 2.1/39.0 MB 4.3 MB/s eta 0:00:09\n",
      "   -- ------------------------------------- 2.5/39.0 MB 4.5 MB/s eta 0:00:09\n",
      "   -- ------------------------------------- 2.8/39.0 MB 4.7 MB/s eta 0:00:08\n",
      "   --- ------------------------------------ 3.2/39.0 MB 4.9 MB/s eta 0:00:08\n",
      "   --- ------------------------------------ 3.5/39.0 MB 5.1 MB/s eta 0:00:07\n",
      "   --- ------------------------------------ 3.7/39.0 MB 5.1 MB/s eta 0:00:07\n",
      "   ---- ----------------------------------- 4.2/39.0 MB 5.3 MB/s eta 0:00:07\n",
      "   ---- ----------------------------------- 4.6/39.0 MB 5.5 MB/s eta 0:00:07\n",
      "   ----- ---------------------------------- 5.1/39.0 MB 5.9 MB/s eta 0:00:06\n",
      "   ----- ---------------------------------- 5.6/39.0 MB 6.0 MB/s eta 0:00:06\n",
      "   ------ --------------------------------- 6.1/39.0 MB 6.3 MB/s eta 0:00:06\n",
      "   ------ --------------------------------- 6.6/39.0 MB 6.6 MB/s eta 0:00:05\n",
      "   ------ --------------------------------- 6.6/39.0 MB 6.6 MB/s eta 0:00:05\n",
      "   ------ --------------------------------- 6.6/39.0 MB 6.6 MB/s eta 0:00:05\n",
      "   ------- -------------------------------- 7.2/39.0 MB 6.1 MB/s eta 0:00:06\n",
      "   ------- -------------------------------- 7.6/39.0 MB 6.2 MB/s eta 0:00:06\n",
      "   -------- ------------------------------- 7.8/39.0 MB 6.3 MB/s eta 0:00:05\n",
      "   -------- ------------------------------- 7.8/39.0 MB 6.3 MB/s eta 0:00:05\n",
      "   -------- ------------------------------- 7.9/39.0 MB 5.8 MB/s eta 0:00:06\n",
      "   -------- ------------------------------- 8.4/39.0 MB 5.9 MB/s eta 0:00:06\n",
      "   --------- ------------------------------ 9.0/39.0 MB 6.1 MB/s eta 0:00:05\n",
      "   --------- ------------------------------ 9.1/39.0 MB 6.1 MB/s eta 0:00:05\n",
      "   --------- ------------------------------ 9.1/39.0 MB 6.1 MB/s eta 0:00:05\n",
      "   --------- ------------------------------ 9.4/39.0 MB 5.8 MB/s eta 0:00:06\n",
      "   --------- ------------------------------ 9.7/39.0 MB 5.8 MB/s eta 0:00:06\n",
      "   ---------- ----------------------------- 10.0/39.0 MB 5.8 MB/s eta 0:00:05\n",
      "   ---------- ----------------------------- 10.0/39.0 MB 5.8 MB/s eta 0:00:05\n",
      "   ---------- ----------------------------- 10.0/39.0 MB 5.5 MB/s eta 0:00:06\n",
      "   ---------- ----------------------------- 10.3/39.0 MB 6.0 MB/s eta 0:00:05\n",
      "   ---------- ----------------------------- 10.7/39.0 MB 6.0 MB/s eta 0:00:05\n",
      "   ----------- ---------------------------- 10.9/39.0 MB 6.0 MB/s eta 0:00:05\n",
      "   ----------- ---------------------------- 11.3/39.0 MB 6.1 MB/s eta 0:00:05\n",
      "   ------------ --------------------------- 11.7/39.0 MB 6.2 MB/s eta 0:00:05\n",
      "   ------------ --------------------------- 12.3/39.0 MB 6.4 MB/s eta 0:00:05\n",
      "   ------------- -------------------------- 12.9/39.0 MB 6.5 MB/s eta 0:00:05\n",
      "   ------------- -------------------------- 13.6/39.0 MB 6.8 MB/s eta 0:00:04\n",
      "   -------------- ------------------------- 13.9/39.0 MB 6.8 MB/s eta 0:00:04\n",
      "   -------------- ------------------------- 14.5/39.0 MB 6.9 MB/s eta 0:00:04\n",
      "   --------------- ------------------------ 15.2/39.0 MB 7.0 MB/s eta 0:00:04\n",
      "   ---------------- ----------------------- 15.7/39.0 MB 7.0 MB/s eta 0:00:04\n",
      "   ---------------- ----------------------- 16.3/39.0 MB 7.0 MB/s eta 0:00:04\n",
      "   ----------------- ---------------------- 17.1/39.0 MB 7.8 MB/s eta 0:00:03\n",
      "   ------------------ --------------------- 17.8/39.0 MB 7.9 MB/s eta 0:00:03\n",
      "   ------------------ --------------------- 18.3/39.0 MB 8.7 MB/s eta 0:00:03\n",
      "   ------------------ --------------------- 18.5/39.0 MB 8.5 MB/s eta 0:00:03\n",
      "   ------------------- -------------------- 18.8/39.0 MB 8.6 MB/s eta 0:00:03\n",
      "   -------------------- ------------------- 19.6/39.0 MB 9.5 MB/s eta 0:00:03\n",
      "   -------------------- ------------------- 20.0/39.0 MB 9.6 MB/s eta 0:00:02\n",
      "   --------------------- ------------------ 20.6/39.0 MB 11.3 MB/s eta 0:00:02\n",
      "   --------------------- ------------------ 21.4/39.0 MB 12.1 MB/s eta 0:00:02\n",
      "   ---------------------- ----------------- 22.2/39.0 MB 12.6 MB/s eta 0:00:02\n",
      "   ----------------------- ---------------- 22.9/39.0 MB 12.6 MB/s eta 0:00:02\n",
      "   ------------------------ --------------- 23.7/39.0 MB 12.8 MB/s eta 0:00:02\n",
      "   ------------------------ --------------- 24.4/39.0 MB 13.1 MB/s eta 0:00:02\n",
      "   ------------------------- -------------- 25.0/39.0 MB 13.1 MB/s eta 0:00:02\n",
      "   -------------------------- ------------- 25.6/39.0 MB 13.1 MB/s eta 0:00:02\n",
      "   --------------------------- ------------ 26.4/39.0 MB 13.4 MB/s eta 0:00:01\n",
      "   --------------------------- ------------ 27.1/39.0 MB 13.4 MB/s eta 0:00:01\n",
      "   ---------------------------- ----------- 27.6/39.0 MB 13.1 MB/s eta 0:00:01\n",
      "   ----------------------------- ---------- 28.3/39.0 MB 13.1 MB/s eta 0:00:01\n",
      "   ----------------------------- ---------- 28.9/39.0 MB 13.9 MB/s eta 0:00:01\n",
      "   ------------------------------ --------- 29.5/39.0 MB 14.2 MB/s eta 0:00:01\n",
      "   ------------------------------- -------- 30.2/39.0 MB 14.6 MB/s eta 0:00:01\n",
      "   ------------------------------- -------- 30.8/39.0 MB 14.6 MB/s eta 0:00:01\n",
      "   -------------------------------- ------- 31.6/39.0 MB 14.2 MB/s eta 0:00:01\n",
      "   --------------------------------- ------ 32.3/39.0 MB 14.2 MB/s eta 0:00:01\n",
      "   --------------------------------- ------ 32.9/39.0 MB 13.9 MB/s eta 0:00:01\n",
      "   ---------------------------------- ----- 33.5/39.0 MB 13.9 MB/s eta 0:00:01\n",
      "   ----------------------------------- ---- 34.3/39.0 MB 14.5 MB/s eta 0:00:01\n",
      "   ----------------------------------- ---- 35.0/39.0 MB 13.9 MB/s eta 0:00:01\n",
      "   ------------------------------------ --- 35.6/39.0 MB 14.2 MB/s eta 0:00:01\n",
      "   ------------------------------------- -- 36.4/39.0 MB 14.2 MB/s eta 0:00:01\n",
      "   ------------------------------------- -- 36.4/39.0 MB 14.2 MB/s eta 0:00:01\n",
      "   -------------------------------------- - 37.1/39.0 MB 13.4 MB/s eta 0:00:01\n",
      "   -------------------------------------- - 37.6/39.0 MB 13.1 MB/s eta 0:00:01\n",
      "   ---------------------------------------  38.3/39.0 MB 13.1 MB/s eta 0:00:01\n",
      "   ---------------------------------------  38.8/39.0 MB 13.1 MB/s eta 0:00:01\n",
      "   ---------------------------------------  39.0/39.0 MB 13.1 MB/s eta 0:00:01\n",
      "   ---------------------------------------  39.0/39.0 MB 13.1 MB/s eta 0:00:01\n",
      "   ---------------------------------------  39.0/39.0 MB 13.1 MB/s eta 0:00:01\n",
      "   ---------------------------------------  39.0/39.0 MB 13.1 MB/s eta 0:00:01\n",
      "   ---------------------------------------  39.0/39.0 MB 13.1 MB/s eta 0:00:01\n",
      "   ---------------------------------------  39.0/39.0 MB 13.1 MB/s eta 0:00:01\n",
      "   ---------------------------------------  39.0/39.0 MB 13.1 MB/s eta 0:00:01\n",
      "   ---------------------------------------  39.0/39.0 MB 13.1 MB/s eta 0:00:01\n",
      "   ---------------------------------------  39.0/39.0 MB 13.1 MB/s eta 0:00:01\n",
      "   ---------------------------------------  39.0/39.0 MB 13.1 MB/s eta 0:00:01\n",
      "   ---------------------------------------  39.0/39.0 MB 13.1 MB/s eta 0:00:01\n",
      "   ---------------------------------------  39.0/39.0 MB 13.1 MB/s eta 0:00:01\n",
      "   ---------------------------------------  39.0/39.0 MB 13.1 MB/s eta 0:00:01\n",
      "   ---------------------------------------  39.0/39.0 MB 13.1 MB/s eta 0:00:01\n",
      "   ---------------------------------------  39.0/39.0 MB 13.1 MB/s eta 0:00:01\n",
      "   ---------------------------------------  39.0/39.0 MB 13.1 MB/s eta 0:00:01\n",
      "   ---------------------------------------  39.0/39.0 MB 13.1 MB/s eta 0:00:01\n",
      "   ---------------------------------------  39.0/39.0 MB 13.1 MB/s eta 0:00:01\n",
      "   ---------------------------------------  39.0/39.0 MB 13.1 MB/s eta 0:00:01\n",
      "   ---------------------------------------  39.0/39.0 MB 13.1 MB/s eta 0:00:01\n",
      "   ---------------------------------------  39.0/39.0 MB 13.1 MB/s eta 0:00:01\n",
      "   ---------------------------------------  39.0/39.0 MB 13.1 MB/s eta 0:00:01\n",
      "   ---------------------------------------  39.0/39.0 MB 13.1 MB/s eta 0:00:01\n",
      "   ---------------------------------------  39.0/39.0 MB 13.1 MB/s eta 0:00:01\n",
      "   ---------------------------------------  39.0/39.0 MB 13.1 MB/s eta 0:00:01\n",
      "   ---------------------------------------  39.0/39.0 MB 13.1 MB/s eta 0:00:01\n",
      "   ---------------------------------------  39.0/39.0 MB 13.1 MB/s eta 0:00:01\n",
      "   ---------------------------------------  39.0/39.0 MB 13.1 MB/s eta 0:00:01\n",
      "   ---------------------------------------  39.0/39.0 MB 13.1 MB/s eta 0:00:01\n",
      "   ---------------------------------------  39.0/39.0 MB 13.1 MB/s eta 0:00:01\n",
      "   ---------------------------------------  39.0/39.0 MB 13.1 MB/s eta 0:00:01\n",
      "   ---------------------------------------  39.0/39.0 MB 13.1 MB/s eta 0:00:01\n",
      "   ---------------------------------------  39.0/39.0 MB 13.1 MB/s eta 0:00:01\n",
      "   ---------------------------------------  39.0/39.0 MB 13.1 MB/s eta 0:00:01\n",
      "   ---------------------------------------  39.0/39.0 MB 13.1 MB/s eta 0:00:01\n",
      "   ---------------------------------------  39.0/39.0 MB 13.1 MB/s eta 0:00:01\n",
      "   ---------------------------------------  39.0/39.0 MB 13.1 MB/s eta 0:00:01\n",
      "   ---------------------------------------- 39.0/39.0 MB 3.8 MB/s eta 0:00:00\n",
      "Downloading numpy-2.2.6-cp311-cp311-win_amd64.whl (12.9 MB)\n",
      "   ---------------------------------------- 0.0/12.9 MB ? eta -:--:--\n",
      "   --- ------------------------------------ 1.0/12.9 MB 31.1 MB/s eta 0:00:01\n",
      "   ----- ---------------------------------- 1.7/12.9 MB 21.4 MB/s eta 0:00:01\n",
      "   ------- -------------------------------- 2.3/12.9 MB 18.6 MB/s eta 0:00:01\n",
      "   --------- ------------------------------ 2.9/12.9 MB 17.0 MB/s eta 0:00:01\n",
      "   ---------- ----------------------------- 3.4/12.9 MB 15.4 MB/s eta 0:00:01\n",
      "   ------------ --------------------------- 4.1/12.9 MB 15.5 MB/s eta 0:00:01\n",
      "   ------------- -------------------------- 4.5/12.9 MB 14.3 MB/s eta 0:00:01\n",
      "   -------------- ------------------------- 4.5/12.9 MB 12.6 MB/s eta 0:00:01\n",
      "   ---------------- ----------------------- 5.2/12.9 MB 12.9 MB/s eta 0:00:01\n",
      "   ----------------- ---------------------- 5.7/12.9 MB 12.6 MB/s eta 0:00:01\n",
      "   ------------------- -------------------- 6.4/12.9 MB 12.7 MB/s eta 0:00:01\n",
      "   ---------------------- ----------------- 7.1/12.9 MB 13.0 MB/s eta 0:00:01\n",
      "   ----------------------- ---------------- 7.7/12.9 MB 12.9 MB/s eta 0:00:01\n",
      "   ------------------------- -------------- 8.3/12.9 MB 12.9 MB/s eta 0:00:01\n",
      "   --------------------------- ------------ 8.9/12.9 MB 12.9 MB/s eta 0:00:01\n",
      "   ----------------------------- ---------- 9.6/12.9 MB 13.0 MB/s eta 0:00:01\n",
      "   ------------------------------- -------- 10.3/12.9 MB 13.1 MB/s eta 0:00:01\n",
      "   --------------------------------- ------ 10.8/12.9 MB 12.6 MB/s eta 0:00:01\n",
      "   ----------------------------------- ---- 11.5/12.9 MB 12.6 MB/s eta 0:00:01\n",
      "   -------------------------------------- - 12.3/12.9 MB 12.6 MB/s eta 0:00:01\n",
      "   ---------------------------------------  12.7/12.9 MB 12.4 MB/s eta 0:00:01\n",
      "   ---------------------------------------  12.9/12.9 MB 12.4 MB/s eta 0:00:01\n",
      "   ---------------------------------------  12.9/12.9 MB 12.4 MB/s eta 0:00:01\n",
      "   ---------------------------------------  12.9/12.9 MB 12.4 MB/s eta 0:00:01\n",
      "   ---------------------------------------  12.9/12.9 MB 12.4 MB/s eta 0:00:01\n",
      "   ---------------------------------------  12.9/12.9 MB 12.4 MB/s eta 0:00:01\n",
      "   ---------------------------------------  12.9/12.9 MB 12.4 MB/s eta 0:00:01\n",
      "   ---------------------------------------  12.9/12.9 MB 12.4 MB/s eta 0:00:01\n",
      "   ---------------------------------------  12.9/12.9 MB 12.4 MB/s eta 0:00:01\n",
      "   ---------------------------------------  12.9/12.9 MB 12.4 MB/s eta 0:00:01\n",
      "   ---------------------------------------  12.9/12.9 MB 12.4 MB/s eta 0:00:01\n",
      "   ---------------------------------------  12.9/12.9 MB 12.4 MB/s eta 0:00:01\n",
      "   ---------------------------------------  12.9/12.9 MB 12.4 MB/s eta 0:00:01\n",
      "   ---------------------------------------  12.9/12.9 MB 12.4 MB/s eta 0:00:01\n",
      "   ---------------------------------------  12.9/12.9 MB 12.4 MB/s eta 0:00:01\n",
      "   ---------------------------------------  12.9/12.9 MB 12.4 MB/s eta 0:00:01\n",
      "   ---------------------------------------  12.9/12.9 MB 12.4 MB/s eta 0:00:01\n",
      "   ---------------------------------------  12.9/12.9 MB 12.4 MB/s eta 0:00:01\n",
      "   ---------------------------------------- 12.9/12.9 MB 6.2 MB/s eta 0:00:00\n",
      "Installing collected packages: numpy, opencv-python\n",
      "  Attempting uninstall: numpy\n",
      "    Found existing installation: numpy 2.3.3\n",
      "    Uninstalling numpy-2.3.3:\n",
      "      Successfully uninstalled numpy-2.3.3\n",
      "Successfully installed numpy-2.2.6 opencv-python-4.12.0.88\n",
      "Note: you may need to restart the kernel to use updated packages.\n"
     ]
    },
    {
     "name": "stderr",
     "output_type": "stream",
     "text": [
      "  WARNING: Failed to remove contents in a temporary directory 'C:\\My drive\\Learn practically\\Spark\\myenv\\Lib\\site-packages\\~umpy.libs'.\n",
      "  You can safely remove it manually.\n",
      "  WARNING: Failed to remove contents in a temporary directory 'C:\\My drive\\Learn practically\\Spark\\myenv\\Lib\\site-packages\\~umpy'.\n",
      "  You can safely remove it manually.\n",
      "\n",
      "[notice] A new release of pip is available: 24.0 -> 25.2\n",
      "[notice] To update, run: C:\\My drive\\Learn practically\\Spark\\myenv\\Scripts\\python.exe -m pip install --upgrade pip\n"
     ]
    }
   ],
   "source": [
    "pip install opencv-python"
   ]
  },
  {
   "cell_type": "code",
   "execution_count": 77,
   "id": "f5c6932b-04fa-4d42-869d-513f3cdc8e0c",
   "metadata": {},
   "outputs": [
    {
     "name": "stdout",
     "output_type": "stream",
     "text": [
      "\u001b[1m1/1\u001b[0m \u001b[32m━━━━━━━━━━━━━━━━━━━━\u001b[0m\u001b[37m\u001b[0m \u001b[1m0s\u001b[0m 60ms/step\n"
     ]
    },
    {
     "data": {
      "image/png": "[encoded data removed]",
      "text/plain": [
       "<Figure size 640x480 with 1 Axes>"
      ]
     },
     "metadata": {},
     "output_type": "display_data"
    },
    {
     "name": "stdout",
     "output_type": "stream",
     "text": [
      "True Label: 6\n",
      "Predicted Label: 6\n"
     ]
    }
   ],
   "source": [
    "# Pick a sample from the test set (example: index 15)\n",
    "index = 100\n",
    "img = x_test[index]\n",
    "\n",
    "# Preprocess the image to match LeNet input (32x32, normalized, channel=1)\n",
    "img_resized = cv2.resize(img, (32, 32))  # LeNet expects 32x32 input\n",
    "img_input = img_resized / 255.0\n",
    "img_input = img_input.reshape(1, 32, 32, 1)\n",
    "\n",
    "# Predict using trained model\n",
    "prediction = model.predict(img_input)\n",
    "predicted_class = np.argmax(prediction)\n",
    "\n",
    "# Show results\n",
    "plt.imshow(img_resized, cmap='gray')\n",
    "plt.title(f\"True: {y_test[index]} | Predicted: {predicted_class}\")\n",
    "plt.axis('off')\n",
    "plt.show()\n",
    "\n",
    "print(\"True Label:\", y_test[index])\n",
    "print(\"Predicted Label:\", predicted_class)\n"
   ]
  },
  {
   "cell_type": "code",
   "execution_count": null,
   "id": "9f80ab3b-1e83-4a72-a83c-8d338ff1eb72",
   "metadata": {},
   "outputs": [],
   "source": []
  }
 ],
 "metadata": {
  "kernelspec": {
   "display_name": "Python (myenv)",
   "language": "python",
   "name": "myenv"
  },
  "language_info": {
   "codemirror_mode": {
    "name": "ipython",
    "version": 3
   },
   "file_extension": ".py",
   "mimetype": "text/x-python",
   "name": "python",
   "nbconvert_exporter": "python",
   "pygments_lexer": "ipython3",
   "version": "3.11.9"
  }
 },
 "nbformat": 4,
 "nbformat_minor": 5
}
